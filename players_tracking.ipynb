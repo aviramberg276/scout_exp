{
  "nbformat": 4,
  "nbformat_minor": 0,
  "metadata": {
    "colab": {
      "name": "players_tracking.ipynb",
      "provenance": [],
      "collapsed_sections": [],
      "toc_visible": true,
      "include_colab_link": true
    },
    "kernelspec": {
      "name": "python3",
      "display_name": "Python 3"
    }
  },
  "cells": [
    {
      "cell_type": "markdown",
      "metadata": {
        "id": "view-in-github",
        "colab_type": "text"
      },
      "source": [
        "<a href=\"https://colab.research.google.com/github/aviramberg276/scout_exp/blob/develop/players_tracking.ipynb\" target=\"_parent\"><img src=\"https://colab.research.google.com/assets/colab-badge.svg\" alt=\"Open In Colab\"/></a>"
      ]
    },
    {
      "cell_type": "code",
      "metadata": {
        "id": "n8L3wDokHfVc",
        "colab_type": "code",
        "colab": {
          "base_uri": "https://localhost:8080/",
          "height": 122
        },
        "outputId": "96efff77-f80f-46df-dd11-e2484dd0555f"
      },
      "source": [
        "from google.colab import drive\n",
        "drive.mount('/content/drive')"
      ],
      "execution_count": 1,
      "outputs": [
        {
          "output_type": "stream",
          "text": [
            "Go to this URL in a browser: https://accounts.google.com/o/oauth2/auth?client_id=947318989803-6bn6qk8qdgf4n4g3pfee6491hc0brc4i.apps.googleusercontent.com&redirect_uri=urn%3aietf%3awg%3aoauth%3a2.0%3aoob&response_type=code&scope=email%20https%3a%2f%2fwww.googleapis.com%2fauth%2fdocs.test%20https%3a%2f%2fwww.googleapis.com%2fauth%2fdrive%20https%3a%2f%2fwww.googleapis.com%2fauth%2fdrive.photos.readonly%20https%3a%2f%2fwww.googleapis.com%2fauth%2fpeopleapi.readonly\n",
            "\n",
            "Enter your authorization code:\n",
            "··········\n",
            "Mounted at /content/drive\n"
          ],
          "name": "stdout"
        }
      ]
    },
    {
      "cell_type": "code",
      "metadata": {
        "id": "pCLtEgcOPFuD",
        "colab_type": "code",
        "colab": {}
      },
      "source": [
        "#Import libraries\n",
        "import cv2\n",
        "import os\n",
        "import numpy as np"
      ],
      "execution_count": 0,
      "outputs": []
    },
    {
      "cell_type": "code",
      "metadata": {
        "id": "Gylgc2yKu8LT",
        "colab_type": "code",
        "colab": {}
      },
      "source": [
        "#Reading the video\n",
        "vidcap = cv2.VideoCapture('/content/drive/My Drive/Colab Notebooks/data/soccer/cutvideo.mp4')\n",
        "success,image = vidcap.read()"
      ],
      "execution_count": 0,
      "outputs": []
    },
    {
      "cell_type": "code",
      "metadata": {
        "id": "C3tWtU4mcQN0",
        "colab_type": "code",
        "outputId": "81658445-beed-4b42-e292-f0f983cc6fbd",
        "colab": {
          "base_uri": "https://localhost:8080/",
          "height": 34
        }
      },
      "source": [
        "image.shape[1]"
      ],
      "execution_count": 70,
      "outputs": [
        {
          "output_type": "execute_result",
          "data": {
            "text/plain": [
              "1280"
            ]
          },
          "metadata": {
            "tags": []
          },
          "execution_count": 70
        }
      ]
    },
    {
      "cell_type": "code",
      "metadata": {
        "id": "ejKogjRvb_JI",
        "colab_type": "code",
        "colab": {}
      },
      "source": [
        "# fourcc = cv2.VideoWriter_fourcc('M', 'J', 'P', 'G')\n",
        "# fourcc=cv2.VideoWriter_fourcc(*'mp4v') \n",
        "# fourcc = cv2.VideoWriter_fourcc(*'X264')\n",
        "width = vidcap.get(cv2.CAP_PROP_FRAME_WIDTH)\n",
        "height = vidcap.get(cv2.CAP_PROP_FRAME_HEIGHT)\n",
        "fourcc1 = cv2.VideoWriter_fourcc(*'XVID')\n",
        "# fourcc1 = cv2.CV_FOURCC(*'MJPG')\n",
        "out = cv2.VideoWriter('/content/drive/My Drive/Colab Notebooks/data/soccer/test_file_out1.avi', fourcc1, 20.0,  (int(width),int(height)))"
      ],
      "execution_count": 0,
      "outputs": []
    },
    {
      "cell_type": "code",
      "metadata": {
        "id": "cZMceCPTS_qc",
        "colab_type": "code",
        "colab": {}
      },
      "source": [
        "fourcc = cv2.VideoWriter_fourcc(*'XVID')\n",
        "out1 = cv2.VideoWriter('/content/drive/My Drive/Colab Notebooks/data/soccer/test_file_out2.avi', fourcc, 20.0,  (int(width),int(height)))"
      ],
      "execution_count": 0,
      "outputs": []
    },
    {
      "cell_type": "code",
      "metadata": {
        "id": "0-iup5Fggsw5",
        "colab_type": "code",
        "colab": {}
      },
      "source": [
        "\n",
        "count = 0\n",
        "success = True\n",
        "idx = 0"
      ],
      "execution_count": 0,
      "outputs": []
    },
    {
      "cell_type": "code",
      "metadata": {
        "id": "2DtL6hPbXwGm",
        "colab_type": "code",
        "outputId": "c4e26f5f-7924-408b-f683-628267279aef",
        "colab": {
          "base_uri": "https://localhost:8080/",
          "height": 493
        }
      },
      "source": [
        "while success:\n",
        "\t#converting into hsv image\n",
        "\thsv = cv2.cvtColor(image,cv2.COLOR_BGR2HSV)\n",
        "\t#green range\n",
        "\tlower_green = np.array([40,40, 40])\n",
        "\tupper_green = np.array([70, 255, 255])\n",
        "\t#blue range\n",
        "\tlower_blue = np.array([110,50,50])\n",
        "\tupper_blue = np.array([130,255,255])\n",
        "\n",
        "\t#Red range\n",
        "\tlower_red = np.array([0,31,255])\n",
        "\tupper_red = np.array([176,255,255])\n",
        "\n",
        "\t#white range\n",
        "\tlower_white = np.array([0,0,0])\n",
        "\tupper_white = np.array([0,0,255])\n",
        "\n",
        "    #Define a mask ranging from lower to uppper\n",
        "\tmask = cv2.inRange(hsv, lower_green, upper_green)\n",
        "    #Do masking\n",
        "\tres = cv2.bitwise_and(image, image, mask=mask)\n",
        "\t#convert to hsv to gray\n",
        "\tres_bgr = cv2.cvtColor(res,cv2.COLOR_HSV2BGR)\n",
        "\tres_gray = cv2.cvtColor(res,cv2.COLOR_BGR2GRAY)\n",
        "\n",
        "    #Defining a kernel to do morphological operation in threshold image to \n",
        "    #get better output.\n",
        "\tkernel = np.ones((13,13),np.uint8)\n",
        "\tthresh = cv2.threshold(res_gray,127,255,cv2.THRESH_BINARY_INV | cv2.THRESH_OTSU)[1]\n",
        "\tthresh = cv2.morphologyEx(thresh, cv2.MORPH_CLOSE, kernel)\n",
        "\t\n",
        "\n",
        "    #find contours in threshold image     \n",
        "\tcontours,hierarchy = cv2.findContours(thresh,cv2.RETR_TREE,cv2.CHAIN_APPROX_SIMPLE)\n",
        "\t\n",
        "\n",
        "\tprev = 0\n",
        "\tfont = cv2.FONT_HERSHEY_SIMPLEX\n",
        "\n",
        "\tfor c in contours:\n",
        "\t\tx,y,w,h = cv2.boundingRect(c)\n",
        "\t\t\n",
        "\t\t#Detect players\n",
        "\t\tif(h>=(1.5)*w):\n",
        "\t\t\tif(w>15 and h>= 15):\n",
        "\t\t\t\tidx = idx+1\n",
        "\t\t\t\tplayer_img = image[y:y+h,x:x+w]\n",
        "\t\t\t\tplayer_hsv = cv2.cvtColor(player_img,cv2.COLOR_BGR2HSV)\n",
        "\t\t\t\t#If player has blue jersy\n",
        "\t\t\t\tmask1 = cv2.inRange(player_hsv, lower_blue, upper_blue)\n",
        "\t\t\t\tres1 = cv2.bitwise_and(player_img, player_img, mask=mask1)\n",
        "\t\t\t\tres1 = cv2.cvtColor(res1,cv2.COLOR_HSV2BGR)\n",
        "\t\t\t\tres1 = cv2.cvtColor(res1,cv2.COLOR_BGR2GRAY)\n",
        "\t\t\t\tnzCount = cv2.countNonZero(res1)\n",
        "\t\t\t\t#If player has red jersy\n",
        "\t\t\t\tmask2 = cv2.inRange(player_hsv, lower_red, upper_red)\n",
        "\t\t\t\tres2 = cv2.bitwise_and(player_img, player_img, mask=mask2)\n",
        "\t\t\t\tres2 = cv2.cvtColor(res2,cv2.COLOR_HSV2BGR)\n",
        "\t\t\t\tres2 = cv2.cvtColor(res2,cv2.COLOR_BGR2GRAY)\n",
        "\t\t\t\tnzCountred = cv2.countNonZero(res2)\n",
        "\n",
        "\t\t\t\tif(nzCount >= 20):\n",
        "\t\t\t\t\t#Mark blue jersy players as france\n",
        "\t\t\t\t\tcv2.putText(image, 'France', (x-2, y-2), font, 0.8, (255,0,0), 2, cv2.LINE_AA)\n",
        "\t\t\t\t\tcv2.rectangle(image,(x,y),(x+w,y+h),(255,0,0),3)\n",
        "\t\t\t\telse:\n",
        "\t\t\t\t\tpass\n",
        "\t\t\t\tif(nzCountred>=20):\n",
        "\t\t\t\t\t#Mark red jersy players as belgium\n",
        "\t\t\t\t\tcv2.putText(image, 'Belgium', (x-2, y-2), font, 0.8, (0,0,255), 2, cv2.LINE_AA)\n",
        "\t\t\t\t\tcv2.rectangle(image,(x,y),(x+w,y+h),(0,0,255),3)\n",
        "\t\t\t\telse:\n",
        "\t\t\t\t\tpass\n",
        "\t\tif((h>=1 and w>=1) and (h<=30 and w<=30)):\n",
        "\t\t\tplayer_img = image[y:y+h,x:x+w]\n",
        "\t\t\n",
        "\t\t\tplayer_hsv = cv2.cvtColor(player_img,cv2.COLOR_BGR2HSV)\n",
        "\t\t\t#white ball  detection\n",
        "\t\t\tmask1 = cv2.inRange(player_hsv, lower_white, upper_white)\n",
        "\t\t\tres1 = cv2.bitwise_and(player_img, player_img, mask=mask1)\n",
        "\t\t\tres1 = cv2.cvtColor(res1,cv2.COLOR_HSV2BGR)\n",
        "\t\t\tres1 = cv2.cvtColor(res1,cv2.COLOR_BGR2GRAY)\n",
        "\t\t\tnzCount = cv2.countNonZero(res1)\n",
        "\t\n",
        "\n",
        "\t\t\tif(nzCount >= 3):\n",
        "\t\t\t\t# detect football\n",
        "\t\t\t\tcv2.putText(image, 'football', (x-2, y-2), font, 0.8, (0,255,0), 2, cv2.LINE_AA)\n",
        "\t\t\t\tcv2.rectangle(image,(x,y),(x+w,y+h),(0,255,0),3)\n",
        "\t\t\t\tprint('Read a new frame: ', success)     # save frame as JPEG file\t\n",
        "\tout.write(image)\n",
        "\tout1.write(res)\n",
        "\tcount += 1\n",
        "\t# cv2.imshow('Match Detection',image)\n",
        "  # checking wheather we got interupt from the user the close the image.\n",
        "\t# cv2.imwrite(\"/content/frame%d.jpg\" % count, res)\n",
        "\tif cv2.waitKey(1) & 0xFF == ord('q'):\n",
        "\t\tbreak\n",
        "\tsuccess,image = vidcap.read()\n",
        "\t# break\n",
        "    \n",
        "vidcap.release()\n",
        "out.release()\n",
        "out1.release()\n",
        "cv2.waitKey(5)\n",
        "cv2.destroyAllWindows()"
      ],
      "execution_count": 74,
      "outputs": [
        {
          "output_type": "stream",
          "text": [
            "Read a new frame:  True\n",
            "Read a new frame:  True\n",
            "Read a new frame:  True\n",
            "Read a new frame:  True\n",
            "Read a new frame:  True\n",
            "Read a new frame:  True\n",
            "Read a new frame:  True\n",
            "Read a new frame:  True\n",
            "Read a new frame:  True\n",
            "Read a new frame:  True\n",
            "Read a new frame:  True\n",
            "Read a new frame:  True\n",
            "Read a new frame:  True\n",
            "Read a new frame:  True\n",
            "Read a new frame:  True\n",
            "Read a new frame:  True\n",
            "Read a new frame:  True\n",
            "Read a new frame:  True\n",
            "Read a new frame:  True\n",
            "Read a new frame:  True\n",
            "Read a new frame:  True\n",
            "Read a new frame:  True\n",
            "Read a new frame:  True\n",
            "Read a new frame:  True\n",
            "Read a new frame:  True\n",
            "Read a new frame:  True\n",
            "Read a new frame:  True\n",
            "Read a new frame:  True\n"
          ],
          "name": "stdout"
        }
      ]
    },
    {
      "cell_type": "code",
      "metadata": {
        "id": "b0U9w79-ykxx",
        "colab_type": "code",
        "outputId": "90964fa6-52a0-40d0-817c-30c9dda4a268",
        "colab": {
          "base_uri": "https://localhost:8080/",
          "height": 34
        }
      },
      "source": [
        "count"
      ],
      "execution_count": 0,
      "outputs": [
        {
          "output_type": "execute_result",
          "data": {
            "text/plain": [
              "25679"
            ]
          },
          "metadata": {
            "tags": []
          },
          "execution_count": 29
        }
      ]
    },
    {
      "cell_type": "code",
      "metadata": {
        "id": "ZLgP2vUNCBTQ",
        "colab_type": "code",
        "outputId": "a70e4832-ccde-4460-8d75-945b39712f02",
        "colab": {
          "base_uri": "https://localhost:8080/",
          "height": 34
        }
      },
      "source": [
        "res.shape"
      ],
      "execution_count": 0,
      "outputs": [
        {
          "output_type": "execute_result",
          "data": {
            "text/plain": [
              "(720, 1280, 3)"
            ]
          },
          "metadata": {
            "tags": []
          },
          "execution_count": 47
        }
      ]
    },
    {
      "cell_type": "code",
      "metadata": {
        "id": "7zvsM5JALOiu",
        "colab_type": "code",
        "outputId": "7075543c-e640-49f2-8ad6-40a29963bb39",
        "colab": {
          "base_uri": "https://localhost:8080/",
          "height": 840
        }
      },
      "source": [
        "res"
      ],
      "execution_count": 0,
      "outputs": [
        {
          "output_type": "execute_result",
          "data": {
            "text/plain": [
              "array([[[0, 0, 0],\n",
              "        [0, 0, 0],\n",
              "        [0, 0, 0],\n",
              "        ...,\n",
              "        [0, 0, 0],\n",
              "        [0, 0, 0],\n",
              "        [0, 0, 0]],\n",
              "\n",
              "       [[0, 0, 0],\n",
              "        [0, 0, 0],\n",
              "        [0, 0, 0],\n",
              "        ...,\n",
              "        [0, 0, 0],\n",
              "        [0, 0, 0],\n",
              "        [0, 0, 0]],\n",
              "\n",
              "       [[0, 0, 0],\n",
              "        [0, 0, 0],\n",
              "        [0, 0, 0],\n",
              "        ...,\n",
              "        [0, 0, 0],\n",
              "        [0, 0, 0],\n",
              "        [0, 0, 0]],\n",
              "\n",
              "       ...,\n",
              "\n",
              "       [[0, 0, 0],\n",
              "        [0, 0, 0],\n",
              "        [0, 0, 0],\n",
              "        ...,\n",
              "        [0, 0, 0],\n",
              "        [0, 0, 0],\n",
              "        [0, 0, 0]],\n",
              "\n",
              "       [[0, 0, 0],\n",
              "        [0, 0, 0],\n",
              "        [0, 0, 0],\n",
              "        ...,\n",
              "        [0, 0, 0],\n",
              "        [0, 0, 0],\n",
              "        [0, 0, 0]],\n",
              "\n",
              "       [[0, 0, 0],\n",
              "        [0, 0, 0],\n",
              "        [0, 0, 0],\n",
              "        ...,\n",
              "        [0, 0, 0],\n",
              "        [0, 0, 0],\n",
              "        [0, 0, 0]]], dtype=uint8)"
            ]
          },
          "metadata": {
            "tags": []
          },
          "execution_count": 48
        }
      ]
    },
    {
      "cell_type": "code",
      "metadata": {
        "id": "DqRc2K63LQMB",
        "colab_type": "code",
        "outputId": "7c02a06b-5f65-42df-e3dd-bc30d2d349c5",
        "colab": {
          "base_uri": "https://localhost:8080/",
          "height": 229
        }
      },
      "source": [
        "cap = cv2.VideoCapture('/content/drive/My Drive/Colab Notebooks/data/soccer/alexander_sorloth.mp4')   \n",
        "  \n",
        "# Define the codec and create VideoWriter object \n",
        "fourcc = cv2.VideoWriter_fourcc(*'XVID') \n",
        "out = cv2.VideoWriter('/content/drive/My Drive/Colab Notebooks/data/soccer/output.avi', fourcc, 20.0, (640, 480)) \n",
        "  \n",
        "# loop runs if capturing has been initialized.  \n",
        "while(True): \n",
        "    # reads frames from a camera  \n",
        "    # ret checks return at each frame \n",
        "    ret, frame = cap.read()  \n",
        "  \n",
        "    # Converts to HSV color space, OCV reads colors as BGR \n",
        "    # frame is converted to hsv \n",
        "    hsv = cv2.cvtColor(frame, cv2.COLOR_BGR2HSV) \n",
        "      \n",
        "    # output the frame \n",
        "    out.write(hsv)  \n",
        "      \n",
        "    # The original input frame is shown in the window  \n",
        "    # cv2.imshow('Original', frame) \n",
        "  \n",
        "    # The window showing the operated video stream  \n",
        "    # cv2.imshow('frame', hsv) \n",
        "  \n",
        "      \n",
        "    # Wait for 'a' key to stop the program  \n",
        "    if cv2.waitKey(1) & 0xFF == ord('a'): \n",
        "        break\n",
        "  \n",
        "# Close the window / Release webcam \n",
        "cap.release() \n",
        "  \n",
        "# After we release our webcam, we also release the output \n",
        "out.release()  \n",
        "  \n",
        "# De-allocate any associated memory usage  \n",
        "cv2.destroyAllWindows() "
      ],
      "execution_count": 0,
      "outputs": [
        {
          "output_type": "error",
          "ename": "error",
          "evalue": "ignored",
          "traceback": [
            "\u001b[0;31m---------------------------------------------------------------------------\u001b[0m",
            "\u001b[0;31merror\u001b[0m                                     Traceback (most recent call last)",
            "\u001b[0;32m<ipython-input-74-db233c514053>\u001b[0m in \u001b[0;36m<module>\u001b[0;34m()\u001b[0m\n\u001b[1;32m     13\u001b[0m     \u001b[0;31m# Converts to HSV color space, OCV reads colors as BGR\u001b[0m\u001b[0;34m\u001b[0m\u001b[0;34m\u001b[0m\u001b[0;34m\u001b[0m\u001b[0m\n\u001b[1;32m     14\u001b[0m     \u001b[0;31m# frame is converted to hsv\u001b[0m\u001b[0;34m\u001b[0m\u001b[0;34m\u001b[0m\u001b[0;34m\u001b[0m\u001b[0m\n\u001b[0;32m---> 15\u001b[0;31m     \u001b[0mhsv\u001b[0m \u001b[0;34m=\u001b[0m \u001b[0mcv2\u001b[0m\u001b[0;34m.\u001b[0m\u001b[0mcvtColor\u001b[0m\u001b[0;34m(\u001b[0m\u001b[0mframe\u001b[0m\u001b[0;34m,\u001b[0m \u001b[0mcv2\u001b[0m\u001b[0;34m.\u001b[0m\u001b[0mCOLOR_BGR2HSV\u001b[0m\u001b[0;34m)\u001b[0m\u001b[0;34m\u001b[0m\u001b[0;34m\u001b[0m\u001b[0m\n\u001b[0m\u001b[1;32m     16\u001b[0m \u001b[0;34m\u001b[0m\u001b[0m\n\u001b[1;32m     17\u001b[0m     \u001b[0;31m# output the frame\u001b[0m\u001b[0;34m\u001b[0m\u001b[0;34m\u001b[0m\u001b[0;34m\u001b[0m\u001b[0m\n",
            "\u001b[0;31merror\u001b[0m: OpenCV(4.1.2) /io/opencv/modules/imgproc/src/color.cpp:182: error: (-215:Assertion failed) !_src.empty() in function 'cvtColor'\n"
          ]
        }
      ]
    },
    {
      "cell_type": "code",
      "metadata": {
        "id": "K9jZCYSGVz57",
        "colab_type": "code",
        "colab": {}
      },
      "source": [
        "Sequential()model.add(Conv2D(32, kernel_size=(3, 3), activation='relu', input_shape=input_shape, kernel_regularizer=regularizers.l2(0.01), bias_regularizer=regularizers.l2(0.01)))model.add(MaxPooling2D(pool_size=(2, 2)))model.add(Dropout(0.25))model.add(Conv2D(64, kernel_size=(3, 3), activation='relu', kernel_regularizer=regularizers.l2(0.01), bias_regularizer=regularizers.l2(0.01)))model.add(MaxPooling2D(pool_size=(2, 2)))model.add(Dropout(0.25))model.add(Flatten())model.add(Dense(256, activation='relu', kernel_regularizer=regularizers.l2(0.01), bias_regularizer=regularizers.l2(0.01)))model.add(Dense(no_classes, activation='softmax', kernel_regularizer=regularizers.l2(0.01), bias_regularizer=regularizers.l2(0.01)))"
      ],
      "execution_count": 0,
      "outputs": []
    }
  ]
}